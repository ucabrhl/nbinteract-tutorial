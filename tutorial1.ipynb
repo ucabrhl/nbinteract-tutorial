<<<<<<< HEAD
{
 "cells": [
  {
   "cell_type": "markdown",
   "metadata": {},
   "source": [
    "# nbinteract"
   ]
  },
  {
   "cell_type": "markdown",
   "metadata": {},
   "source": [
    "`nbinteract` is a Python package that creates interactive webpages from Jupyter notebooks. `nbinteract` also has built-in support for interactive plotting. These interactions are driven by data, not callbacks, allowing authors to focus on the logic of their programs."
   ]
  },
  {
   "cell_type": "markdown",
   "metadata": {},
   "source": [
    "`nbinteract` is most useful for:\n",
    "\n",
    "- Data scientists that want to create simple interactive blog posts without having to know / work with Javascript.\n",
    "- Instructors that want to include interactive examples in their textbooks.\n",
    "- Students that want to publish data analysis that contains interactive demos."
   ]
  },
  {
   "cell_type": "code",
   "execution_count": 1,
   "metadata": {},
   "outputs": [],
   "source": [
    "import numpy as np\n",
    "import nbinteract as nbi"
   ]
  },
  {
   "cell_type": "markdown",
   "metadata": {},
   "source": [
    "# Examples\n",
    "\n",
    "Most plotting functions from other libraries (e.g. `matplotlib`) take data as input. `nbinteract`'s plotting functions take functions as input."
   ]
  },
  {
   "cell_type": "code",
   "execution_count": 2,
   "metadata": {},
   "outputs": [
    {
     "data": {
      "application/vnd.jupyter.widget-view+json": {
       "model_id": "a63698e7bbe4440bbeaab56c3efbfeb7",
       "version_major": 2,
       "version_minor": 0
      },
      "text/plain": [
       "VBox(children=(interactive(children=(IntSlider(value=5, description='mean', max=10), FloatSlider(value=1.0, de…"
      ]
     },
     "metadata": {},
     "output_type": "display_data"
    }
   ],
   "source": [
    "def normal(mean, sd):\n",
    "    '''Returns 1000 points drawn at random fron N(mean, sd)'''\n",
    "    return np.random.normal(mean, sd, 1000)\n",
    "\n",
    "# Pass in the `normal` function and let user change mean and sd with slidebar\n",
    "nbi.hist(normal, mean=(0, 10), sd=(0, 2.0))"
   ]
  },
  {
   "cell_type": "markdown",
   "metadata": {},
   "source": [
    "Simulations are easy to create using `nbinteract`. In this simulation, we roll a die and plot the running average of the rolls. We can see that with more rolls, the average gets closer to the expected value: 3.5."
   ]
  },
  {
   "cell_type": "code",
   "execution_count": 3,
   "metadata": {},
   "outputs": [
    {
     "data": {
      "application/vnd.jupyter.widget-view+json": {
       "model_id": "54c71a9051ad4be9a1d45f46c805c3d2",
       "version_major": 2,
       "version_minor": 0
      },
      "text/plain": [
       "VBox(children=(interactive(children=(IntSlider(value=150, description='num_rolls', max=300, min=1), Output()),…"
      ]
     },
     "metadata": {},
     "output_type": "display_data"
    }
   ],
   "source": [
    "rolls = np.random.choice([1, 2, 3, 4, 5, 6], size=300)\n",
    "averages = np.cumsum(rolls) / np.arange(1, 301)\n",
    "\n",
    "def x_vals(num_rolls):\n",
    "    return range(num_rolls)\n",
    "\n",
    "# The function to generate y-values gets called with the\n",
    "# x-values as its first argument.\n",
    "def y_vals(xs):\n",
    "    return averages[:len(xs)]\n",
    "\n",
    "nbi.line(x_vals, y_vals, num_rolls=(1, 300))"
   ]
  }
 ],
 "metadata": {
  "kernelspec": {
   "display_name": "Python 3",
   "language": "python",
   "name": "python3"
  },
  "language_info": {
   "codemirror_mode": {
    "name": "ipython",
    "version": 3
   },
   "file_extension": ".py",
   "mimetype": "text/x-python",
   "name": "python",
   "nbconvert_exporter": "python",
   "pygments_lexer": "ipython3",
   "version": "3.7.6"
  }
 },
 "nbformat": 4,
 "nbformat_minor": 2
}
=======
{"cells":[{"metadata":{},"cell_type":"markdown","source":"# nbinteract"},{"metadata":{},"cell_type":"markdown","source":"`nbinteract` is a Python package that creates interactive webpages from Jupyter notebooks. `nbinteract` also has built-in support for interactive plotting. These interactions are driven by data, not callbacks, allowing authors to focus on the logic of their programs."},{"metadata":{},"cell_type":"markdown","source":"`nbinteract` is most useful for:\n\n- Data scientists that want to create simple interactive blog posts without having to know / work with Javascript.\n- Instructors that want to include interactive examples in their textbooks.\n- Students that want to publish data analysis that contains interactive demos."},{"metadata":{"trusted":true},"cell_type":"code","source":"import numpy as np\nimport nbinteract as nbi","execution_count":1,"outputs":[]},{"metadata":{},"cell_type":"markdown","source":"# Examples\n\nMost plotting functions from other libraries (e.g. `matplotlib`) take data as input. `nbinteract`'s plotting functions take functions as input."},{"metadata":{"trusted":true},"cell_type":"code","source":"def normal(mean, sd):\n    '''Returns 1000 points drawn at random fron N(mean, sd)'''\n    return np.random.normal(mean, sd, 1000)\n\n# Pass in the `normal` function and let user change mean and sd with slidebar\nnbi.hist(normal, mean=(0, 10), sd=(0, 2.0))","execution_count":2,"outputs":[{"data":{"application/vnd.jupyter.widget-view+json":{"model_id":"440c5092cef342bf93b14e7871f4db26","version_major":2,"version_minor":0},"text/plain":"VBox(children=(interactive(children=(IntSlider(value=5, description='mean', max=10), FloatSlider(value=1.0, de…"},"metadata":{},"output_type":"display_data"}]},{"metadata":{},"cell_type":"markdown","source":"Simulations are easy to create using `nbinteract`. In this simulation, we roll a die and plot the running average of the rolls. We can see that with more rolls, the average gets closer to the expected value: 3.5."},{"metadata":{"trusted":true},"cell_type":"code","source":"rolls = np.random.choice([1, 2, 3, 4, 5, 6], size=300)\naverages = np.cumsum(rolls) / np.arange(1, 301)\n\ndef x_vals(num_rolls):\n    return range(num_rolls)\n\n# The function to generate y-values gets called with the\n# x-values as its first argument.\ndef y_vals(xs):\n    return averages[:len(xs)]\n\nnbi.line(x_vals, y_vals, num_rolls=(1, 300))","execution_count":3,"outputs":[{"data":{"application/vnd.jupyter.widget-view+json":{"model_id":"bb5b3391e4704eeab000a653f016a265","version_major":2,"version_minor":0},"text/plain":"VBox(children=(interactive(children=(IntSlider(value=150, description='num_rolls', max=300, min=1), Output()),…"},"metadata":{},"output_type":"display_data"}]}],"metadata":{"kernelspec":{"name":"python3","display_name":"Python 3","language":"python"},"language_info":{"name":"python","version":"3.7.6","mimetype":"text/x-python","codemirror_mode":{"name":"ipython","version":3},"pygments_lexer":"ipython3","nbconvert_exporter":"python","file_extension":".py"}},"nbformat":4,"nbformat_minor":2}
>>>>>>> 447bb81079a2a487a8498772d71a45b5b3269870
